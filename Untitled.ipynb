{
 "cells": [
  {
   "cell_type": "code",
   "execution_count": 1,
   "id": "5df4114f-e7fe-4bab-9093-db52c7377588",
   "metadata": {},
   "outputs": [
    {
     "name": "stdout",
     "output_type": "stream",
     "text": [
      "\n",
      "Conservative Scenario (Annual Growth: 20.0%):\n",
      "Year 1: $400,000.00\n",
      "Year 2: $454,500.00\n",
      "Year 3: $519,135.00\n",
      "Year 4: $595,909.05\n",
      "Year 5: $687,226.32\n",
      "Total 5-Year Compensation: $2,656,770.37\n",
      "\n",
      "Moderate Scenario (Annual Growth: 40.0%):\n",
      "Year 1: $400,000.00\n",
      "Year 2: $504,500.00\n",
      "Year 3: $649,135.00\n",
      "Year 4: $849,909.05\n",
      "Year 5: $1,129,226.32\n",
      "Total 5-Year Compensation: $3,532,770.37\n",
      "\n",
      "Optimistic Scenario (Annual Growth: 60.0%):\n",
      "Year 1: $400,000.00\n",
      "Year 2: $554,500.00\n",
      "Year 3: $799,135.00\n",
      "Year 4: $1,187,909.05\n",
      "Year 5: $1,807,226.32\n",
      "Total 5-Year Compensation: $4,748,770.37\n"
     ]
    }
   ],
   "source": [
    "import numpy as np\n",
    "\n",
    "def estimate_compensation(base_salary, equity_percentage, company_valuation, annual_growth_rate, years):\n",
    "    total_comp = []\n",
    "    for year in range(years):\n",
    "        salary = base_salary * (1.03 ** year)  # Assuming 3% annual salary increase\n",
    "        company_value = company_valuation * (1 + annual_growth_rate) ** year\n",
    "        equity_value = company_value * equity_percentage\n",
    "        total_comp.append(salary + equity_value)\n",
    "    return total_comp\n",
    "\n",
    "# Example inputs\n",
    "base_salary = 150000  # Adjust based on your research\n",
    "equity_percentage = 0.05  # Assuming you negotiate 5% equity\n",
    "company_valuation = 5000000  # Initial company valuation\n",
    "years = 5\n",
    "\n",
    "# Scenarios\n",
    "scenarios = {\n",
    "    \"Conservative\": 0.20,  # 20% annual growth\n",
    "    \"Moderate\": 0.40,  # 40% annual growth\n",
    "    \"Optimistic\": 0.60   # 60% annual growth\n",
    "}\n",
    "\n",
    "for scenario, growth_rate in scenarios.items():\n",
    "    comp = estimate_compensation(base_salary, equity_percentage, company_valuation, growth_rate, years)\n",
    "    print(f\"\\n{scenario} Scenario (Annual Growth: {growth_rate*100}%):\")\n",
    "    for year, amount in enumerate(comp, start=1):\n",
    "        print(f\"Year {year}: ${amount:,.2f}\")\n",
    "    print(f\"Total 5-Year Compensation: ${sum(comp):,.2f}\")"
   ]
  },
  {
   "cell_type": "code",
   "execution_count": null,
   "id": "5f1929ee-7c79-42dd-8b47-2f0fb6da3ba4",
   "metadata": {},
   "outputs": [],
   "source": []
  }
 ],
 "metadata": {
  "kernelspec": {
   "display_name": "Python 3 (ipykernel)",
   "language": "python",
   "name": "python3"
  },
  "language_info": {
   "codemirror_mode": {
    "name": "ipython",
    "version": 3
   },
   "file_extension": ".py",
   "mimetype": "text/x-python",
   "name": "python",
   "nbconvert_exporter": "python",
   "pygments_lexer": "ipython3",
   "version": "3.10.15"
  }
 },
 "nbformat": 4,
 "nbformat_minor": 5
}
