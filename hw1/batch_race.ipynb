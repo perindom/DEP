{
 "cells": [
  {
   "cell_type": "code",
   "execution_count": 12,
   "id": "113b6b33-6c09-4130-aa46-52417ea632d1",
   "metadata": {},
   "outputs": [
    {
     "name": "stdout",
     "output_type": "stream",
     "text": [
      "Requirement already satisfied: fastf1 in /usr/local/lib/python3.10/site-packages (3.4.0)\n",
      "Requirement already satisfied: numpy<3.0.0,>=1.23.1 in /usr/local/lib/python3.10/site-packages (from fastf1) (2.1.0)\n",
      "Requirement already satisfied: scipy<2.0.0,>=1.8.1 in /usr/local/lib/python3.10/site-packages (from fastf1) (1.14.1)\n",
      "Requirement already satisfied: websockets>=10.3 in /usr/local/lib/python3.10/site-packages (from fastf1) (13.0.1)\n",
      "Requirement already satisfied: requests-cache>=1.0.0 in /usr/local/lib/python3.10/site-packages (from fastf1) (1.2.1)\n",
      "Requirement already satisfied: rapidfuzz in /usr/local/lib/python3.10/site-packages (from fastf1) (3.9.7)\n",
      "Requirement already satisfied: python-dateutil in /usr/local/lib/python3.10/site-packages (from fastf1) (2.9.0.post0)\n",
      "Requirement already satisfied: requests>=2.28.1 in /usr/local/lib/python3.10/site-packages (from fastf1) (2.32.3)\n",
      "Requirement already satisfied: pandas<3.0.0,>=1.4.1 in /usr/local/lib/python3.10/site-packages (from fastf1) (2.2.2)\n",
      "Requirement already satisfied: timple>=0.1.6 in /usr/local/lib/python3.10/site-packages (from fastf1) (0.1.8)\n",
      "Requirement already satisfied: matplotlib<4.0.0,>=3.5.1 in /usr/local/lib/python3.10/site-packages (from fastf1) (3.9.2)\n",
      "Requirement already satisfied: packaging>=20.0 in /usr/local/lib/python3.10/site-packages (from matplotlib<4.0.0,>=3.5.1->fastf1) (24.1)\n",
      "Requirement already satisfied: pyparsing>=2.3.1 in /usr/local/lib/python3.10/site-packages (from matplotlib<4.0.0,>=3.5.1->fastf1) (3.1.4)\n",
      "Requirement already satisfied: pillow>=8 in /usr/local/lib/python3.10/site-packages (from matplotlib<4.0.0,>=3.5.1->fastf1) (10.4.0)\n",
      "Requirement already satisfied: fonttools>=4.22.0 in /usr/local/lib/python3.10/site-packages (from matplotlib<4.0.0,>=3.5.1->fastf1) (4.53.1)\n",
      "Requirement already satisfied: contourpy>=1.0.1 in /usr/local/lib/python3.10/site-packages (from matplotlib<4.0.0,>=3.5.1->fastf1) (1.3.0)\n",
      "Requirement already satisfied: kiwisolver>=1.3.1 in /usr/local/lib/python3.10/site-packages (from matplotlib<4.0.0,>=3.5.1->fastf1) (1.4.5)\n",
      "Requirement already satisfied: cycler>=0.10 in /usr/local/lib/python3.10/site-packages (from matplotlib<4.0.0,>=3.5.1->fastf1) (0.12.1)\n",
      "Requirement already satisfied: tzdata>=2022.7 in /usr/local/lib/python3.10/site-packages (from pandas<3.0.0,>=1.4.1->fastf1) (2024.1)\n",
      "Requirement already satisfied: pytz>=2020.1 in /usr/local/lib/python3.10/site-packages (from pandas<3.0.0,>=1.4.1->fastf1) (2024.1)\n",
      "Requirement already satisfied: six>=1.5 in /usr/local/lib/python3.10/site-packages (from python-dateutil->fastf1) (1.16.0)\n",
      "Requirement already satisfied: certifi>=2017.4.17 in /usr/local/lib/python3.10/site-packages (from requests>=2.28.1->fastf1) (2024.8.30)\n",
      "Requirement already satisfied: urllib3<3,>=1.21.1 in /usr/local/lib/python3.10/site-packages (from requests>=2.28.1->fastf1) (2.2.2)\n",
      "Requirement already satisfied: charset-normalizer<4,>=2 in /usr/local/lib/python3.10/site-packages (from requests>=2.28.1->fastf1) (3.3.2)\n",
      "Requirement already satisfied: idna<4,>=2.5 in /usr/local/lib/python3.10/site-packages (from requests>=2.28.1->fastf1) (3.8)\n",
      "Requirement already satisfied: url-normalize>=1.4 in /usr/local/lib/python3.10/site-packages (from requests-cache>=1.0.0->fastf1) (1.4.3)\n",
      "Requirement already satisfied: cattrs>=22.2 in /usr/local/lib/python3.10/site-packages (from requests-cache>=1.0.0->fastf1) (24.1.0)\n",
      "Requirement already satisfied: attrs>=21.2 in /usr/local/lib/python3.10/site-packages (from requests-cache>=1.0.0->fastf1) (24.2.0)\n",
      "Requirement already satisfied: platformdirs>=2.5 in /usr/local/lib/python3.10/site-packages (from requests-cache>=1.0.0->fastf1) (4.2.2)\n",
      "Requirement already satisfied: exceptiongroup>=1.1.1 in /usr/local/lib/python3.10/site-packages (from cattrs>=22.2->requests-cache>=1.0.0->fastf1) (1.2.2)\n",
      "Requirement already satisfied: typing-extensions!=4.6.3,>=4.1.0 in /usr/local/lib/python3.10/site-packages (from cattrs>=22.2->requests-cache>=1.0.0->fastf1) (4.12.2)\n",
      "\u001b[33mWARNING: Running pip as the 'root' user can result in broken permissions and conflicting behaviour with the system package manager. It is recommended to use a virtual environment instead: https://pip.pypa.io/warnings/venv\u001b[0m\u001b[33m\n",
      "\u001b[0m\n",
      "\u001b[1m[\u001b[0m\u001b[34;49mnotice\u001b[0m\u001b[1;39;49m]\u001b[0m\u001b[39;49m A new release of pip is available: \u001b[0m\u001b[31;49m23.0.1\u001b[0m\u001b[39;49m -> \u001b[0m\u001b[32;49m24.2\u001b[0m\n",
      "\u001b[1m[\u001b[0m\u001b[34;49mnotice\u001b[0m\u001b[1;39;49m]\u001b[0m\u001b[39;49m To update, run: \u001b[0m\u001b[32;49mpip install --upgrade pip\u001b[0m\n"
     ]
    }
   ],
   "source": [
    "!pip install fastf1\n",
    "import fastf1\n",
    "from datetime import datetime"
   ]
  },
  {
   "cell_type": "code",
   "execution_count": 21,
   "id": "9f856ee0-ba08-4de0-8528-e491932c6e1b",
   "metadata": {},
   "outputs": [],
   "source": [
    "import pandas as pd"
   ]
  },
  {
   "cell_type": "code",
   "execution_count": 22,
   "id": "33b8a323-f15e-4b69-98ee-e298fa6599ee",
   "metadata": {},
   "outputs": [
    {
     "data": {
      "text/plain": [
       "<module 'fastf1' from '/usr/local/lib/python3.10/site-packages/fastf1/__init__.py'>"
      ]
     },
     "execution_count": 22,
     "metadata": {},
     "output_type": "execute_result"
    }
   ],
   "source": [
    "fastf1"
   ]
  },
  {
   "cell_type": "code",
   "execution_count": 23,
   "id": "08305411-8a43-4f08-a0ab-b0fd6004b956",
   "metadata": {},
   "outputs": [
    {
     "name": "stderr",
     "output_type": "stream",
     "text": [
      "logger      WARNING \tFailed to load schedule from FastF1 backend!\n",
      "req            INFO \tNo cached data found for season_schedule. Loading data...\n",
      "_api           INFO \tFetching season schedule...\n",
      "req            INFO \tData has been written to cache!\n"
     ]
    }
   ],
   "source": [
    "df = fastf1.get_event_schedule(2024)"
   ]
  },
  {
   "cell_type": "code",
   "execution_count": 24,
   "id": "b85c6446-1314-48df-a0dc-dc88532bacb2",
   "metadata": {},
   "outputs": [
    {
     "name": "stdout",
     "output_type": "stream",
     "text": [
      "RoundNumber                                                   16\n",
      "Country                                                    Italy\n",
      "Location                                                   Monza\n",
      "OfficialEventName    FORMULA 1 PIRELLI GRAN PREMIO D’ITALIA 2024\n",
      "EventDate                                    2024-09-01 00:00:00\n",
      "EventName                                     Italian Grand Prix\n",
      "EventFormat                                         conventional\n",
      "Session1                                              Practice 1\n",
      "Session1Date                           2024-08-30 13:30:00+02:00\n",
      "Session1DateUtc                              2024-08-30 11:30:00\n",
      "Session2                                              Practice 2\n",
      "Session2Date                           2024-08-30 17:00:00+02:00\n",
      "Session2DateUtc                              2024-08-30 15:00:00\n",
      "Session3                                              Practice 3\n",
      "Session3Date                           2024-08-31 12:30:00+02:00\n",
      "Session3DateUtc                              2024-08-31 10:30:00\n",
      "Session4                                              Qualifying\n",
      "Session4Date                           2024-08-31 16:00:00+02:00\n",
      "Session4DateUtc                              2024-08-31 14:00:00\n",
      "Session5                                                    Race\n",
      "Session5Date                           2024-09-01 15:00:00+02:00\n",
      "Session5DateUtc                              2024-09-01 13:00:00\n",
      "F1ApiSupport                                                True\n",
      "Name: 6, dtype: object\n"
     ]
    }
   ],
   "source": [
    "# Convert 'EventDate' to datetime format\n",
    "df['EventDate'] = pd.to_datetime(df['EventDate'])\n",
    "\n",
    "# Get today's date\n",
    "today = pd.to_datetime(datetime.today().date())\n",
    "\n",
    "# Filter rows where EventDate is less than or equal to today's date\n",
    "df_recent = df[df['EventDate'] <= today]\n",
    "\n",
    "# Find the row with the maximum EventDate\n",
    "most_recent_row = df_recent.loc[df_recent['EventDate'].idxmax()]\n",
    "\n",
    "print(most_recent_row)"
   ]
  },
  {
   "cell_type": "code",
   "execution_count": 35,
   "id": "9b7adf8b-cf4f-453e-9cf1-12b44f3b1673",
   "metadata": {},
   "outputs": [
    {
     "name": "stderr",
     "output_type": "stream",
     "text": [
      "core           INFO \tLoading data for Italian Grand Prix - Race [v3.4.0]\n",
      "req            INFO \tUsing cached data for session_info\n",
      "req            INFO \tUsing cached data for driver_info\n",
      "req            INFO \tUsing cached data for session_status_data\n",
      "req            INFO \tUsing cached data for lap_count\n",
      "req            INFO \tUsing cached data for track_status_data\n",
      "req            INFO \tUsing cached data for _extended_timing_data\n",
      "req            INFO \tUsing cached data for timing_app_data\n",
      "core           INFO \tProcessing timing data...\n",
      "req            INFO \tUsing cached data for car_data\n",
      "req            INFO \tUsing cached data for position_data\n",
      "req            INFO \tUsing cached data for weather_data\n",
      "req            INFO \tUsing cached data for race_control_messages\n",
      "core           INFO \tFinished loading data for 20 drivers: ['16', '81', '4', '55', '44', '1', '63', '11', '23', '20', '14', '43', '3', '31', '10', '77', '27', '24', '18', '22']\n"
     ]
    }
   ],
   "source": [
    "session = fastf1.get_session(most_recent_row['EventDate'].year, most_recent_row['Location'], 'Race')\n",
    "session.load()\n",
    "results = session.results\n",
    "results.to_json('data.json')"
   ]
  },
  {
   "cell_type": "markdown",
   "id": "12a6e047-724e-4245-b6c8-6b651118b23e",
   "metadata": {},
   "source": [
    "Total Script"
   ]
  },
  {
   "cell_type": "code",
   "execution_count": null,
   "id": "a10e105f-4f03-4c86-8895-bbbd571277cd",
   "metadata": {},
   "outputs": [],
   "source": [
    "import fastf1\n",
    "from datetime import datetime\n",
    "import pandas as pd\n",
    "\n",
    "df = fastf1.get_event_schedule(2024)\n",
    "\n",
    "# Convert 'EventDate' to datetime format\n",
    "df['EventDate'] = pd.to_datetime(df['EventDate'])\n",
    "\n",
    "# Get today's date\n",
    "today = pd.to_datetime(datetime.today().date())\n",
    "\n",
    "# Filter rows where EventDate is less than or equal to today's date\n",
    "df_recent = df[df['EventDate'] <= today]\n",
    "\n",
    "# Find the row with the maximum EventDate\n",
    "most_recent_row = df_recent.loc[df_recent['EventDate'].idxmax()]\n",
    "\n",
    "session = fastf1.get_session(most_recent_row['EventDate'].year, most_recent_row['Location'], 'Race')\n",
    "session.load()\n",
    "results = session.results\n",
    "results.to_json('data.json')"
   ]
  }
 ],
 "metadata": {
  "kernelspec": {
   "display_name": "Python 3 (ipykernel)",
   "language": "python",
   "name": "python3"
  },
  "language_info": {
   "codemirror_mode": {
    "name": "ipython",
    "version": 3
   },
   "file_extension": ".py",
   "mimetype": "text/x-python",
   "name": "python",
   "nbconvert_exporter": "python",
   "pygments_lexer": "ipython3",
   "version": "3.10.14"
  }
 },
 "nbformat": 4,
 "nbformat_minor": 5
}
