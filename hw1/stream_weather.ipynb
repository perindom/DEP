{
 "cells": [
  {
   "cell_type": "code",
   "execution_count": 8,
   "id": "cbf05fbd-c641-474b-927d-c8904b913d8d",
   "metadata": {},
   "outputs": [
    {
     "name": "stdout",
     "output_type": "stream",
     "text": [
      "Weather Data:\n",
      "{'lat': 45.619, 'lon': 9.287, 'timezone': 'Europe/Rome', 'timezone_offset': 7200, 'current': {'dt': 1725426596, 'sunrise': 1725425293, 'sunset': 1725472548, 'temp': 19.64, 'feels_like': 20.09, 'pressure': 1015, 'humidity': 93, 'dew_point': 18.48, 'uvi': 0, 'clouds': 20, 'visibility': 10000, 'wind_speed': 1.03, 'wind_deg': 0, 'weather': [{'id': 801, 'main': 'Clouds', 'description': 'few clouds', 'icon': '02d'}]}, 'minutely': [{'dt': 1725426600, 'precipitation': 0}, {'dt': 1725426660, 'precipitation': 0}, {'dt': 1725426720, 'precipitation': 0}, {'dt': 1725426780, 'precipitation': 0}, {'dt': 1725426840, 'precipitation': 0}, {'dt': 1725426900, 'precipitation': 0}, {'dt': 1725426960, 'precipitation': 0}, {'dt': 1725427020, 'precipitation': 0}, {'dt': 1725427080, 'precipitation': 0}, {'dt': 1725427140, 'precipitation': 0}, {'dt': 1725427200, 'precipitation': 0}, {'dt': 1725427260, 'precipitation': 0}, {'dt': 1725427320, 'precipitation': 0}, {'dt': 1725427380, 'precipitation': 0}, {'dt': 1725427440, 'precipitation': 0}, {'dt': 1725427500, 'precipitation': 0}, {'dt': 1725427560, 'precipitation': 0}, {'dt': 1725427620, 'precipitation': 0}, {'dt': 1725427680, 'precipitation': 0}, {'dt': 1725427740, 'precipitation': 0}, {'dt': 1725427800, 'precipitation': 0}, {'dt': 1725427860, 'precipitation': 0}, {'dt': 1725427920, 'precipitation': 0}, {'dt': 1725427980, 'precipitation': 0}, {'dt': 1725428040, 'precipitation': 0}, {'dt': 1725428100, 'precipitation': 0}, {'dt': 1725428160, 'precipitation': 0}, {'dt': 1725428220, 'precipitation': 0}, {'dt': 1725428280, 'precipitation': 0}, {'dt': 1725428340, 'precipitation': 0}, {'dt': 1725428400, 'precipitation': 0}, {'dt': 1725428460, 'precipitation': 0}, {'dt': 1725428520, 'precipitation': 0}, {'dt': 1725428580, 'precipitation': 0}, {'dt': 1725428640, 'precipitation': 0}, {'dt': 1725428700, 'precipitation': 0}, {'dt': 1725428760, 'precipitation': 0}, {'dt': 1725428820, 'precipitation': 0}, {'dt': 1725428880, 'precipitation': 0}, {'dt': 1725428940, 'precipitation': 0}, {'dt': 1725429000, 'precipitation': 0}, {'dt': 1725429060, 'precipitation': 0}, {'dt': 1725429120, 'precipitation': 0}, {'dt': 1725429180, 'precipitation': 0}, {'dt': 1725429240, 'precipitation': 0}, {'dt': 1725429300, 'precipitation': 0}, {'dt': 1725429360, 'precipitation': 0}, {'dt': 1725429420, 'precipitation': 0}, {'dt': 1725429480, 'precipitation': 0}, {'dt': 1725429540, 'precipitation': 0}, {'dt': 1725429600, 'precipitation': 0}, {'dt': 1725429660, 'precipitation': 0}, {'dt': 1725429720, 'precipitation': 0}, {'dt': 1725429780, 'precipitation': 0}, {'dt': 1725429840, 'precipitation': 0}, {'dt': 1725429900, 'precipitation': 0}, {'dt': 1725429960, 'precipitation': 0}, {'dt': 1725430020, 'precipitation': 0}, {'dt': 1725430080, 'precipitation': 0}, {'dt': 1725430140, 'precipitation': 0}], 'alerts': [{'sender_name': 'Italian Air Force National Meteorological Service', 'event': 'Yellow Rain Warning', 'start': 1725408000, 'end': 1725487140, 'description': 'Moderate intensity weather phenomena expected\\n (DISCLAIMER: \"Information provided on METEOALARM for Italy regard only the intensity and recurrence of the phenomena, further details can be found at www.meteoam.it. METEOALARM information do not provide the assessment of impact on the territory and they do not represent the Official Alerts messages that are issued by the National Civil Protection Service https://www.protezionecivile.gov.it\")', 'tags': ['Rain']}, {'sender_name': 'Italian Air Force National Meteorological Service', 'event': 'Orange Thunderstorm Warning', 'start': 1725465600, 'end': 1725573540, 'description': 'Severe weather expected\\n (DISCLAIMER: \"Information provided on METEOALARM for Italy regard only the intensity and recurrence of the phenomena, further details can be found at www.meteoam.it. METEOALARM information do not provide the assessment of impact on the territory and they do not represent the Official Alerts messages that are issued by the National Civil Protection Service https://www.protezionecivile.gov.it\")', 'tags': ['Thunderstorm']}, {'sender_name': 'Italian Air Force National Meteorological Service', 'event': 'Yellow Thunderstorm Warning', 'start': 1725364800, 'end': 1725429540, 'description': 'Moderate intensity weather phenomena expected\\n (DISCLAIMER: \"Information provided on METEOALARM for Italy regard only the intensity and recurrence of the phenomena, further details can be found at www.meteoam.it. METEOALARM information do not provide the assessment of impact on the territory and they do not represent the Official Alerts messages that are issued by the National Civil Protection Service https://www.protezionecivile.gov.it\")', 'tags': ['Thunderstorm']}, {'sender_name': 'Italian Air Force National Meteorological Service', 'event': 'Yellow Thunderstorm Warning', 'start': 1725447600, 'end': 1725465540, 'description': 'Moderate intensity weather phenomena expected\\n (DISCLAIMER: \"Information provided on METEOALARM for Italy regard only the intensity and recurrence of the phenomena, further details can be found at www.meteoam.it. METEOALARM information do not provide the assessment of impact on the territory and they do not represent the Official Alerts messages that are issued by the National Civil Protection Service https://www.protezionecivile.gov.it\")', 'tags': ['Thunderstorm']}, {'sender_name': 'Italian Air Force National Meteorological Service', 'event': 'Orange Rain Warning', 'start': 1725487200, 'end': 1725573540, 'description': 'Severe weather expected\\n (DISCLAIMER: \"Information provided on METEOALARM for Italy regard only the intensity and recurrence of the phenomena, further details can be found at www.meteoam.it. METEOALARM information do not provide the assessment of impact on the territory and they do not represent the Official Alerts messages that are issued by the National Civil Protection Service https://www.protezionecivile.gov.it\")', 'tags': ['Rain']}]}\n"
     ]
    }
   ],
   "source": [
    "import requests\n",
    "\n",
    "def get_weather_data(lat, lon, api_key):\n",
    "    # Base URL for OpenWeatherMap One Call API\n",
    "    url = 'https://api.openweathermap.org/data/3.0/onecall'\n",
    "    \n",
    "    # Parameters for the API call\n",
    "    params = {\n",
    "        'lat': lat,\n",
    "        'lon': lon,\n",
    "        'exclude': 'hourly,daily',  # Exclude hourly and daily data\n",
    "        'appid': api_key,\n",
    "        'units': 'metric'  # Optional: use 'imperial' for Fahrenheit, 'metric' for Celsius\n",
    "    }\n",
    "    \n",
    "    # Make the API call\n",
    "    response = requests.get(url, params=params)\n",
    "    \n",
    "    # Check if the request was successful\n",
    "    if response.status_code == 200:\n",
    "        return response.json()  # Return the JSON response\n",
    "    else:\n",
    "        print(f\"Error: {response.status_code}\")\n",
    "        print(response.text)\n",
    "        return None\n",
    "\n",
    "def main():\n",
    "    # Replace with your actual API key\n",
    "    api_key = 'cba60f2181e5014b7668f6fede64a3b7'\n",
    "    \n",
    "    # Coordinates for the location\n",
    "    \n",
    "    latitude = 45.618997524 \n",
    "    longitude = 9.286998852\n",
    "    \n",
    "    # Get weather data\n",
    "    weather_data = get_weather_data(latitude, longitude, api_key)\n",
    "    \n",
    "    if weather_data:\n",
    "        print(\"Weather Data:\")\n",
    "        print(weather_data)\n",
    "\n",
    "if __name__ == '__main__':\n",
    "    main()\n"
   ]
  },
  {
   "cell_type": "code",
   "execution_count": null,
   "id": "c38a7551-aaf9-4053-a4d3-d76ca23b982d",
   "metadata": {},
   "outputs": [],
   "source": []
  }
 ],
 "metadata": {
  "kernelspec": {
   "display_name": "Python 3 (ipykernel)",
   "language": "python",
   "name": "python3"
  },
  "language_info": {
   "codemirror_mode": {
    "name": "ipython",
    "version": 3
   },
   "file_extension": ".py",
   "mimetype": "text/x-python",
   "name": "python",
   "nbconvert_exporter": "python",
   "pygments_lexer": "ipython3",
   "version": "3.10.14"
  }
 },
 "nbformat": 4,
 "nbformat_minor": 5
}
